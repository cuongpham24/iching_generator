{
 "cells": [
  {
   "cell_type": "code",
   "execution_count": 1,
   "metadata": {},
   "outputs": [
    {
     "name": "stdout",
     "output_type": "stream",
     "text": [
      "Solar(year=2023, month=3, day=22)\n",
      "Lunar(year=2023, month=2, day=1, isleap=True)\n"
     ]
    },
    {
     "data": {
      "text/plain": [
       "['quý mão', 'ất mão', 'kỷ mão']"
      ]
     },
     "execution_count": 1,
     "metadata": {},
     "output_type": "execute_result"
    }
   ],
   "source": [
    "from chinglunarcalendar import Converter, Solar, Sexagenary\n",
    "\n",
    "# solar converts to lunar, then converts to solar\n",
    "solar = Solar(2023, 3, 22)\n",
    "print(solar)\n",
    "lunar = Converter.Solar2Lunar(solar)\n",
    "print(lunar)\n",
    "\n",
    "[Sexagenary.getString(*i) for i in Converter.Solar2LunarString(Solar(2023, 3, 22))]"
   ]
  },
  {
   "cell_type": "code",
   "execution_count": 1,
   "metadata": {},
   "outputs": [],
   "source": [
    "import chinglunarcalendar.ngrams as ngrams\n",
    "import chinglunarcalendar._data as data \n",
    "trigrams_branch_start = {\n",
    "    \"càn\": \"tý\",\n",
    "    \"đoài\": \"dần\",\n",
    "    \"ly\": \"thìn\",\n",
    "    \"chấn\": \"tý\",\n",
    "    \"tốn\": \"sửu\",\n",
    "    \"khảm\": \"mão\",\n",
    "    \"cấn\": \"tỵ\",\n",
    "    \"khôn\": \"mùi\"\n",
    "}\n",
    "\n",
    "earthlyBranches = data.earthlyBranches"
   ]
  },
  {
   "cell_type": "code",
   "execution_count": null,
   "metadata": {},
   "outputs": [],
   "source": []
  }
 ],
 "metadata": {
  "kernelspec": {
   "display_name": "ds",
   "language": "python",
   "name": "python3"
  },
  "language_info": {
   "codemirror_mode": {
    "name": "ipython",
    "version": 3
   },
   "file_extension": ".py",
   "mimetype": "text/x-python",
   "name": "python",
   "nbconvert_exporter": "python",
   "pygments_lexer": "ipython3",
   "version": "3.12.2"
  }
 },
 "nbformat": 4,
 "nbformat_minor": 2
}
