{
 "cells": [
  {
   "cell_type": "code",
   "execution_count": 4,
   "metadata": {},
   "outputs": [
    {
     "name": "stdout",
     "output_type": "stream",
     "text": [
      "Solar(year=2023, month=3, day=22)\n",
      "Lunar(year=2023, month=2, day=1, isleap=True)\n"
     ]
    },
    {
     "data": {
      "text/plain": [
       "['quý mão', 'ất mão', 'kỷ mão']"
      ]
     },
     "execution_count": 4,
     "metadata": {},
     "output_type": "execute_result"
    }
   ],
   "source": [
    "from ichinglunarcalendar import Converter, Solar, SexagenaryBasic, Sexagenary, Hexagram\n",
    "\n",
    "# solar converts to lunar, then converts to solar\n",
    "solar = Solar(2023, 3, 22)\n",
    "print(solar)\n",
    "lunar = Converter.Solar2Lunar(solar)\n",
    "print(lunar)\n",
    "\n",
    "[SexagenaryBasic.getString(*i) for i in Converter.Solar2Sexagenary(Solar(2023, 3, 22))]"
   ]
  },
  {
   "cell_type": "code",
   "execution_count": 5,
   "metadata": {},
   "outputs": [
    {
     "data": {
      "text/plain": [
       "Sexagenary(year=quý mão, month=ất mão, day=kỷ mão)"
      ]
     },
     "execution_count": 5,
     "metadata": {},
     "output_type": "execute_result"
    }
   ],
   "source": [
    "Sexagenary(2023, 3, 22)"
   ]
  },
  {
   "cell_type": "code",
   "execution_count": 9,
   "metadata": {},
   "outputs": [
    {
     "name": "stdout",
     "output_type": "stream",
     "text": [
      "Lôi Trạch Quy Muội\n"
     ]
    },
    {
     "data": {
      "text/plain": [
       "['tỵ', 'mão', 'sửu', 'ngọ', 'thân', 'tuất']"
      ]
     },
     "execution_count": 9,
     "metadata": {},
     "output_type": "execute_result"
    }
   ],
   "source": [
    "hex = Hexagram(1, 2)\n",
    "print(hex.name)\n",
    "hex.earthBranches"
   ]
  },
  {
   "cell_type": "code",
   "execution_count": null,
   "metadata": {},
   "outputs": [],
   "source": []
  }
 ],
 "metadata": {
  "kernelspec": {
   "display_name": "ds",
   "language": "python",
   "name": "python3"
  },
  "language_info": {
   "codemirror_mode": {
    "name": "ipython",
    "version": 3
   },
   "file_extension": ".py",
   "mimetype": "text/x-python",
   "name": "python",
   "nbconvert_exporter": "python",
   "pygments_lexer": "ipython3",
   "version": "3.11.8"
  }
 },
 "nbformat": 4,
 "nbformat_minor": 2
}
