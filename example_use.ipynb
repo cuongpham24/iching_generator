{
 "cells": [
  {
   "cell_type": "code",
   "execution_count": null,
   "metadata": {},
   "outputs": [
    {
     "name": "stdout",
     "output_type": "stream",
     "text": [
      "Solar(year=2023, month=3, day=22)\n",
      "Lunar(year=2023, month=2, day=1, isleap=True)\n",
      "Quẻ chính: Sơn Địa Bác; Quẻ biến: Sơn Thủy Mông\n",
      "Quẻ chính: Phong Lôi Ích; Quẻ biến: Thuần Càn\n",
      "Quẻ chính: Thuần Chấn; Quẻ biến: Lôi Trạch Quy Muội\n"
     ]
    }
   ],
   "source": [
    "from iching import Converter, Solar, TimeIChing, Sexagenary, Hexagrams, RandomIching, SeriesIching\n",
    "import pandas as pd\n",
    "\n",
    "# solar converts to lunar, then converts to solar\n",
    "solar = Solar(2023, 3, 22)\n",
    "print(solar)\n",
    "lunar = Converter.Solar2Lunar(solar)\n",
    "print(lunar)\n",
    "\n",
    "# Generate hexagram\n",
    "print(TimeIChing.datetimeHex(2024, 8, 14, 15, 2))\n",
    "print(RandomIching.randomHex())\n",
    "print(SeriesIching.seriesHex(\"422\"))"
   ]
  },
  {
   "cell_type": "code",
   "execution_count": 5,
   "metadata": {},
   "outputs": [
    {
     "data": {
      "text/plain": [
       "{'year': 'giáp thìn', 'month': 'ất hợi', 'day': 'quý dậu'}"
      ]
     },
     "execution_count": 5,
     "metadata": {},
     "output_type": "execute_result"
    }
   ],
   "source": [
    "solar = Solar(2024, 11, 5)\n",
    "result = Converter.Solar2SexagenaryText(solar)\n",
    "result"
   ]
  },
  {
   "cell_type": "code",
   "execution_count": 36,
   "metadata": {},
   "outputs": [],
   "source": [
    "from datetime import datetime, timedelta\n",
    "\n",
    "start = datetime(2000, 1, 1)\n",
    "end = datetime(2025, 1, 1)\n",
    "data = []\n",
    "for i in range((end - start).days):\n",
    "    date = start + timedelta(days=i)\n",
    "    solar = Solar(date.year, date.month, date.day)\n",
    "    result = Converter.Solar2SexagenaryText(solar)\n",
    "    result.update({\"date\": date.strftime(\"%d-%b-%Y\")})\n",
    "    data.append(result)"
   ]
  },
  {
   "cell_type": "code",
   "execution_count": 38,
   "metadata": {},
   "outputs": [],
   "source": [
    "df = pd.DataFrame(data)"
   ]
  },
  {
   "cell_type": "code",
   "execution_count": 44,
   "metadata": {},
   "outputs": [],
   "source": [
    "df.to_csv(\"calendar.csv\", index=False, encoding='utf-8-sig')"
   ]
  },
  {
   "cell_type": "code",
   "execution_count": null,
   "metadata": {},
   "outputs": [],
   "source": []
  }
 ],
 "metadata": {
  "kernelspec": {
   "display_name": "ds",
   "language": "python",
   "name": "python3"
  },
  "language_info": {
   "codemirror_mode": {
    "name": "ipython",
    "version": 3
   },
   "file_extension": ".py",
   "mimetype": "text/x-python",
   "name": "python",
   "nbconvert_exporter": "python",
   "pygments_lexer": "ipython3",
   "version": "3.12.4"
  }
 },
 "nbformat": 4,
 "nbformat_minor": 2
}
