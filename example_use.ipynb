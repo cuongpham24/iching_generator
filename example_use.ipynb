{
 "cells": [
  {
   "cell_type": "code",
   "execution_count": 19,
   "metadata": {},
   "outputs": [
    {
     "name": "stdout",
     "output_type": "stream",
     "text": [
      "Solar(year=2023, month=3, day=22)\n",
      "Lunar(year=2023, month=2, day=1, isleap=True)\n",
      "Quẻ chính: Sơn Địa Bác; Quẻ biến: Sơn Thủy Mông\n"
     ]
    }
   ],
   "source": [
    "from iching import Converter, Solar, TimeIChing, Sexagenary, Hexagrams, RandomIching, SeriesIching\n",
    "# solar converts to lunar, then converts to solar\n",
    "solar = Solar(2023, 3, 22)\n",
    "print(solar)\n",
    "lunar = Converter.Solar2Lunar(solar)\n",
    "print(lunar)\n",
    "print(TimeIChing.datetimeHex(2024, 8, 14, 15, 2))"
   ]
  },
  {
   "cell_type": "code",
   "execution_count": 32,
   "metadata": {},
   "outputs": [
    {
     "data": {
      "text/plain": [
       "Quẻ chính: Hỏa Thiên Đại Hữu; Quẻ biến: Địa Phong Thăng"
      ]
     },
     "execution_count": 32,
     "metadata": {},
     "output_type": "execute_result"
    }
   ],
   "source": [
    "RandomIching.randomHex()"
   ]
  },
  {
   "cell_type": "code",
   "execution_count": 30,
   "metadata": {},
   "outputs": [
    {
     "data": {
      "text/plain": [
       "Quẻ chính: Thiên Phong Cấu; Quẻ biến: Trạch Phong Đại Quá"
      ]
     },
     "execution_count": 30,
     "metadata": {},
     "output_type": "execute_result"
    }
   ],
   "source": [
    "SeriesIching.seriesHex(\"123\")"
   ]
  },
  {
   "cell_type": "code",
   "execution_count": null,
   "metadata": {},
   "outputs": [],
   "source": []
  }
 ],
 "metadata": {
  "kernelspec": {
   "display_name": "ds",
   "language": "python",
   "name": "python3"
  },
  "language_info": {
   "codemirror_mode": {
    "name": "ipython",
    "version": 3
   },
   "file_extension": ".py",
   "mimetype": "text/x-python",
   "name": "python",
   "nbconvert_exporter": "python",
   "pygments_lexer": "ipython3",
   "version": "3.12.2"
  }
 },
 "nbformat": 4,
 "nbformat_minor": 2
}
