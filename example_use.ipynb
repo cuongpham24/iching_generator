{
 "cells": [
  {
   "cell_type": "code",
   "execution_count": 1,
   "metadata": {},
   "outputs": [
    {
     "name": "stdout",
     "output_type": "stream",
     "text": [
      "Solar(year=2023, month=3, day=22)\n",
      "Lunar(year=2023, month=2, day=1, isleap=True)\n",
      "Quẻ chính: Sơn Địa Bác; Quẻ biến: Sơn Thủy Mông\n"
     ]
    }
   ],
   "source": [
    "from iching import Converter, Solar, TimeIChing, Sexagenary\n",
    "# solar converts to lunar, then converts to solar\n",
    "solar = Solar(2023, 3, 22)\n",
    "print(solar)\n",
    "lunar = Converter.Solar2Lunar(solar)\n",
    "print(lunar)\n",
    "print(TimeIChing.datetimeHex(2024, 8, 14, 15, 2))"
   ]
  }
 ],
 "metadata": {
  "kernelspec": {
   "display_name": "ds",
   "language": "python",
   "name": "python3"
  },
  "language_info": {
   "codemirror_mode": {
    "name": "ipython",
    "version": 3
   },
   "file_extension": ".py",
   "mimetype": "text/x-python",
   "name": "python",
   "nbconvert_exporter": "python",
   "pygments_lexer": "ipython3",
   "version": "3.12.2"
  }
 },
 "nbformat": 4,
 "nbformat_minor": 2
}
